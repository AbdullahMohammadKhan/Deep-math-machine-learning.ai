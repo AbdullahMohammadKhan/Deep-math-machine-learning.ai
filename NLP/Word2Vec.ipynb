{
 "cells": [
  {
   "cell_type": "markdown",
   "metadata": {
    "collapsed": true
   },
   "source": [
    "## Word 2 Vec"
   ]
  },
  {
   "cell_type": "code",
   "execution_count": 1,
   "metadata": {
    "collapsed": false
   },
   "outputs": [],
   "source": [
    "import numpy as np\n",
    "import matplotlib.pyplot as plt\n",
    "import pandas as pd\n",
    "\n",
    "filename=\"C:/Users/Madhu/Desktop/\"\n",
    "data = pd.read_csv(filename+'sentences.csv')"
   ]
  },
  {
   "cell_type": "code",
   "execution_count": 2,
   "metadata": {
    "collapsed": false
   },
   "outputs": [
    {
     "data": {
      "text/html": [
       "<div>\n",
       "<style>\n",
       "    .dataframe thead tr:only-child th {\n",
       "        text-align: right;\n",
       "    }\n",
       "\n",
       "    .dataframe thead th {\n",
       "        text-align: left;\n",
       "    }\n",
       "\n",
       "    .dataframe tbody tr th {\n",
       "        vertical-align: top;\n",
       "    }\n",
       "</style>\n",
       "<table border=\"1\" class=\"dataframe\">\n",
       "  <thead>\n",
       "    <tr style=\"text-align: right;\">\n",
       "      <th></th>\n",
       "      <th>SentenceId</th>\n",
       "      <th>EpisodeId</th>\n",
       "      <th>Season</th>\n",
       "      <th>Episode</th>\n",
       "      <th>Sentence</th>\n",
       "    </tr>\n",
       "  </thead>\n",
       "  <tbody>\n",
       "    <tr>\n",
       "      <th>0</th>\n",
       "      <td>1</td>\n",
       "      <td>1</td>\n",
       "      <td>1</td>\n",
       "      <td>1</td>\n",
       "      <td>Pilot</td>\n",
       "    </tr>\n",
       "    <tr>\n",
       "      <th>1</th>\n",
       "      <td>2</td>\n",
       "      <td>1</td>\n",
       "      <td>1</td>\n",
       "      <td>1</td>\n",
       "      <td>Scene One</td>\n",
       "    </tr>\n",
       "    <tr>\n",
       "      <th>2</th>\n",
       "      <td>3</td>\n",
       "      <td>1</td>\n",
       "      <td>1</td>\n",
       "      <td>1</td>\n",
       "      <td>[Title: The Year 2030]</td>\n",
       "    </tr>\n",
       "    <tr>\n",
       "      <th>3</th>\n",
       "      <td>4</td>\n",
       "      <td>1</td>\n",
       "      <td>1</td>\n",
       "      <td>1</td>\n",
       "      <td>Narrator: Kids, I'm going to tell you an incre...</td>\n",
       "    </tr>\n",
       "    <tr>\n",
       "      <th>4</th>\n",
       "      <td>5</td>\n",
       "      <td>1</td>\n",
       "      <td>1</td>\n",
       "      <td>1</td>\n",
       "      <td>Son: Are we being punished for something?</td>\n",
       "    </tr>\n",
       "  </tbody>\n",
       "</table>\n",
       "</div>"
      ],
      "text/plain": [
       "   SentenceId  EpisodeId  Season  Episode  \\\n",
       "0           1          1       1        1   \n",
       "1           2          1       1        1   \n",
       "2           3          1       1        1   \n",
       "3           4          1       1        1   \n",
       "4           5          1       1        1   \n",
       "\n",
       "                                            Sentence  \n",
       "0                                              Pilot  \n",
       "1                                          Scene One  \n",
       "2                             [Title: The Year 2030]  \n",
       "3  Narrator: Kids, I'm going to tell you an incre...  \n",
       "4          Son: Are we being punished for something?  "
      ]
     },
     "execution_count": 2,
     "metadata": {},
     "output_type": "execute_result"
    }
   ],
   "source": [
    "data.head()"
   ]
  },
  {
   "cell_type": "code",
   "execution_count": 3,
   "metadata": {
    "collapsed": false
   },
   "outputs": [],
   "source": [
    "df= data.loc[data['Season']==1]\n",
    "df=df.fillna(\"(\")"
   ]
  },
  {
   "cell_type": "code",
   "execution_count": 4,
   "metadata": {
    "collapsed": false
   },
   "outputs": [],
   "source": [
    "df['Character']=\"\"\n",
    "for sen,id in zip(df[\"Sentence\"],df[\"SentenceId\"]):\n",
    "    \n",
    "    if \"[\" is sen[0] or \"(\" is sen[0] or \"Scene\" in sen[0:5] or \":\" not in sen:\n",
    "        df = df.drop(df[df['Sentence']==sen].index)\n",
    "        \n",
    "    else:\n",
    "        value=\"\"\n",
    "        for c in sen:\n",
    "            if c==\":\":\n",
    "                df.set_value(id-1, 'Sentence', sen[len(value)+1:])\n",
    "                break\n",
    "                \n",
    "            else:\n",
    "                value+=c\n",
    "                \n",
    "        \n",
    "        if \"(\" in value:\n",
    "            index=value.index(\"(\")\n",
    "            value=value[:index-1]\n",
    "            \n",
    "        value=value.lower()    \n",
    "        #df.loc[df['Sentence'] == sen,'Character']=sen #setting the values\n",
    "        df.set_value(id-1, 'Character', value)\n",
    "\n",
    "#re arrange the order \n",
    "df = df[['SentenceId','EpisodeId','Season','Episode','Character','Sentence']]"
   ]
  },
  {
   "cell_type": "code",
   "execution_count": 5,
   "metadata": {
    "collapsed": false
   },
   "outputs": [
    {
     "data": {
      "text/html": [
       "<div>\n",
       "<style>\n",
       "    .dataframe thead tr:only-child th {\n",
       "        text-align: right;\n",
       "    }\n",
       "\n",
       "    .dataframe thead th {\n",
       "        text-align: left;\n",
       "    }\n",
       "\n",
       "    .dataframe tbody tr th {\n",
       "        vertical-align: top;\n",
       "    }\n",
       "</style>\n",
       "<table border=\"1\" class=\"dataframe\">\n",
       "  <thead>\n",
       "    <tr style=\"text-align: right;\">\n",
       "      <th></th>\n",
       "      <th>SentenceId</th>\n",
       "      <th>EpisodeId</th>\n",
       "      <th>Season</th>\n",
       "      <th>Episode</th>\n",
       "      <th>Character</th>\n",
       "      <th>Sentence</th>\n",
       "    </tr>\n",
       "  </thead>\n",
       "  <tbody>\n",
       "    <tr>\n",
       "      <th>3</th>\n",
       "      <td>4</td>\n",
       "      <td>1</td>\n",
       "      <td>1</td>\n",
       "      <td>1</td>\n",
       "      <td>narrator</td>\n",
       "      <td>Kids, I'm going to tell you an incredible sto...</td>\n",
       "    </tr>\n",
       "    <tr>\n",
       "      <th>4</th>\n",
       "      <td>5</td>\n",
       "      <td>1</td>\n",
       "      <td>1</td>\n",
       "      <td>1</td>\n",
       "      <td>son</td>\n",
       "      <td>Are we being punished for something?</td>\n",
       "    </tr>\n",
       "    <tr>\n",
       "      <th>5</th>\n",
       "      <td>6</td>\n",
       "      <td>1</td>\n",
       "      <td>1</td>\n",
       "      <td>1</td>\n",
       "      <td>narrator</td>\n",
       "      <td>No</td>\n",
       "    </tr>\n",
       "    <tr>\n",
       "      <th>6</th>\n",
       "      <td>7</td>\n",
       "      <td>1</td>\n",
       "      <td>1</td>\n",
       "      <td>1</td>\n",
       "      <td>daughter</td>\n",
       "      <td>Yeah, is this going to take a while?</td>\n",
       "    </tr>\n",
       "    <tr>\n",
       "      <th>7</th>\n",
       "      <td>8</td>\n",
       "      <td>1</td>\n",
       "      <td>1</td>\n",
       "      <td>1</td>\n",
       "      <td>narrator</td>\n",
       "      <td>Yes. (Kids are annoyed) Twenty-five years ago...</td>\n",
       "    </tr>\n",
       "  </tbody>\n",
       "</table>\n",
       "</div>"
      ],
      "text/plain": [
       "   SentenceId  EpisodeId  Season  Episode Character  \\\n",
       "3           4          1       1        1  narrator   \n",
       "4           5          1       1        1       son   \n",
       "5           6          1       1        1  narrator   \n",
       "6           7          1       1        1  daughter   \n",
       "7           8          1       1        1  narrator   \n",
       "\n",
       "                                            Sentence  \n",
       "3   Kids, I'm going to tell you an incredible sto...  \n",
       "4               Are we being punished for something?  \n",
       "5                                                 No  \n",
       "6               Yeah, is this going to take a while?  \n",
       "7   Yes. (Kids are annoyed) Twenty-five years ago...  "
      ]
     },
     "execution_count": 5,
     "metadata": {},
     "output_type": "execute_result"
    }
   ],
   "source": [
    "df[:5]"
   ]
  },
  {
   "cell_type": "code",
   "execution_count": 6,
   "metadata": {
    "collapsed": false
   },
   "outputs": [
    {
     "data": {
      "image/png": "[encoded data removed]",
      "text/plain": [
       "<matplotlib.figure.Figure at 0x1d0946b0cc0>"
      ]
     },
     "metadata": {},
     "output_type": "display_data"
    }
   ],
   "source": [
    "# for labeling in plotting\n",
    "def autolabel(rects):\n",
    "    for rect in rects:\n",
    "        height = rect.get_height()\n",
    "        ax.text(rect.get_x() + rect.get_width()/2., 1.02*height,\n",
    "                '%d' % int(height),\n",
    "                ha='center', va='bottom')\n",
    "\n",
    "topchar=df.Character.value_counts()[:7]\n",
    "labels=np.array(topchar.keys())\n",
    "values=np.array(topchar)\n",
    "ind=np.arange(len(labels))\n",
    "\n",
    "fig,ax=plt.subplots()\n",
    "rects=ax.bar(ind,values,color='g')\n",
    "ax.set_xticklabels(labels,rotation='vertical')\n",
    "ax.set_xticks(ind)\n",
    "ax.set_ylabel(\"Count\")\n",
    "ax.set_title(\"Top characters with most dialogs\")\n",
    "autolabel(rects)\n",
    "plt.show()"
   ]
  },
  {
   "cell_type": "code",
   "execution_count": 7,
   "metadata": {
    "collapsed": false
   },
   "outputs": [
    {
     "name": "stderr",
     "output_type": "stream",
     "text": [
      "C:\\Users\\Madhu\\AppData\\Local\\Continuum\\Anaconda3\\lib\\site-packages\\gensim\\utils.py:860: UserWarning: detected Windows; aliasing chunkize to chunkize_serial\n",
      "  warnings.warn(\"detected Windows; aliasing chunkize to chunkize_serial\")\n",
      "Using Theano backend.\n"
     ]
    }
   ],
   "source": [
    "import os\n",
    "import pandas as pd\n",
    "import nltk\n",
    "import gensim\n"
   ]
  },
  {
   "cell_type": "code",
   "execution_count": 8,
   "metadata": {
    "collapsed": false
   },
   "outputs": [],
   "source": [
    "corpus= df['Sentence'].values.tolist()\n",
    "tok_corp= [nltk.word_tokenize(sent) for sent in corpus]"
   ]
  },
  {
   "cell_type": "code",
   "execution_count": 9,
   "metadata": {
    "collapsed": true
   },
   "outputs": [],
   "source": [
    "       \n",
    "model = gensim.models.Word2Vec(tok_corp, min_count=1, size = 32)\n",
    "#model.save('testmodel')\n",
    "#model = gensim.models.Word2Vec.load('test_model')\n"
   ]
  },
  {
   "cell_type": "code",
   "execution_count": 10,
   "metadata": {
    "collapsed": false
   },
   "outputs": [
    {
     "data": {
      "text/plain": [
       "[('in', 0.9998530149459839),\n",
       " ('at', 0.9998486042022705),\n",
       " ('My', 0.9998321533203125),\n",
       " ('from', 0.9998310804367065),\n",
       " ('The', 0.9998186826705933),\n",
       " ('my', 0.9998072385787964),\n",
       " ('his', 0.9998066425323486),\n",
       " ('for', 0.9997963905334473),\n",
       " ('He', 0.9997928142547607),\n",
       " ('with', 0.9997889995574951)]"
      ]
     },
     "execution_count": 10,
     "metadata": {},
     "output_type": "execute_result"
    }
   ],
   "source": [
    "model.most_similar('your')"
   ]
  },
  {
   "cell_type": "code",
   "execution_count": null,
   "metadata": {
    "collapsed": true
   },
   "outputs": [],
   "source": []
  }
 ],
 "metadata": {
  "kernelspec": {
   "display_name": "Python 3",
   "language": "python",
   "name": "python3"
  },
  "language_info": {
   "codemirror_mode": {
    "name": "ipython",
    "version": 3
   },
   "file_extension": ".py",
   "mimetype": "text/x-python",
   "name": "python",
   "nbconvert_exporter": "python",
   "pygments_lexer": "ipython3",
   "version": "3.6.0"
  }
 },
 "nbformat": 4,
 "nbformat_minor": 2
}
