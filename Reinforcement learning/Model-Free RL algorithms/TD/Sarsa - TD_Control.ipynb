{
 "cells": [
  {
   "cell_type": "code",
   "execution_count": 1,
   "metadata": {
    "collapsed": true
   },
   "outputs": [],
   "source": [
    "import numpy as np\n",
    "from collections import defaultdict\n",
    "from windy_gridworld import WindyGridworldEnv"
   ]
  },
  {
   "cell_type": "code",
   "execution_count": 2,
   "metadata": {
    "collapsed": true
   },
   "outputs": [],
   "source": [
    "env = WindyGridworldEnv()\n",
    "nA = env.action_space.n\n",
    "epsilon = 0.1\n",
    "gamma = 1.0\n",
    "alpha=0.1"
   ]
  },
  {
   "cell_type": "code",
   "execution_count": 3,
   "metadata": {
    "collapsed": true
   },
   "outputs": [],
   "source": [
    "def get_epision_greedy_action_policy(Q,observation):\n",
    "    \n",
    "    A = np.ones(nA, dtype=float) * epsilon / nA\n",
    "    best_action = np.argmax(Q[observation])\n",
    "    A[best_action] += (1.0 - epsilon)\n",
    "    \n",
    "    return A"
   ]
  },
  {
   "cell_type": "code",
   "execution_count": 4,
   "metadata": {
    "collapsed": true
   },
   "outputs": [],
   "source": [
    "def sarsa(total_episodes):\n",
    "    \n",
    "    Q = defaultdict(lambda: np.zeros(env.action_space.n))\n",
    "    \n",
    "    for k in range(total_episodes):\n",
    "        \n",
    "        current_state = env.reset()\n",
    "        prob_scores = get_epision_greedy_action_policy(Q,current_state)\n",
    "        current_action = np.random.choice(np.arange(nA), p=prob_scores)\n",
    "        \n",
    "        while True:\n",
    "            next_state, reward, done, _ = env.step(current_action)\n",
    "            \n",
    "            prob_scores_next_state = get_epision_greedy_action_policy(Q,next_state)\n",
    "            next_action = np.random.choice(np.arange(nA), p=prob_scores_next_state)\n",
    "            \n",
    "            td_target = reward + gamma * Q[next_state][next_action]\n",
    "            td_error = td_target - Q[current_state][current_action]\n",
    "            Q[current_state][current_action] = Q[current_state][current_action] + alpha * td_error\n",
    "    \n",
    "            if done:\n",
    "                break\n",
    "                \n",
    "            current_state = next_state        \n",
    "            current_action = next_action\n",
    "    return Q"
   ]
  },
  {
   "cell_type": "code",
   "execution_count": 5,
   "metadata": {
    "collapsed": false
   },
   "outputs": [],
   "source": [
    "Q = sarsa(100)"
   ]
  },
  {
   "cell_type": "code",
   "execution_count": 6,
   "metadata": {
    "collapsed": false
   },
   "outputs": [
    {
     "data": {
      "text/plain": [
       "defaultdict(<function __main__.sarsa.<locals>.<lambda>>,\n",
       "            {0: array([-7.23161575, -7.29958333, -7.18717715, -7.27618449]),\n",
       "             1: array([-7.42383796, -7.57233287, -7.53122959, -7.47635605]),\n",
       "             2: array([-8.01321095, -8.0934948 , -7.98614455, -8.01497448]),\n",
       "             3: array([-8.75142555, -8.75560806, -8.80757863, -8.71927534]),\n",
       "             4: array([-9.34956077, -9.36932408, -9.3858538 , -9.32013663]),\n",
       "             5: array([-9.59096767, -9.53775607, -9.5525641 , -9.5076854 ]),\n",
       "             6: array([-8.88543911, -8.87175175, -9.04891587, -8.96500339]),\n",
       "             7: array([-8.0648201 , -7.94818118, -8.08417569, -8.28831815]),\n",
       "             8: array([-7.073299  , -6.99467687, -7.04481336, -7.23069323]),\n",
       "             9: array([-6.24919135, -6.16547193, -6.02351154, -6.20416429]),\n",
       "             10: array([-6.95346044, -7.1065806 , -7.0213666 , -6.9529876 ]),\n",
       "             11: array([-7.15670215, -7.20182671, -7.17354238, -7.1368625 ]),\n",
       "             12: array([-7.37101539, -7.44093546, -7.26365433, -7.31709813]),\n",
       "             13: array([-7.85943375, -7.78974079, -7.7522235 , -7.82086554]),\n",
       "             14: array([-7.83921181, -8.01769776, -7.80698368, -7.93689639]),\n",
       "             15: array([-7.31879049, -7.49404692, -7.42308446, -7.31697144]),\n",
       "             16: array([-6.5100341 , -6.51406361, -6.63349708, -6.40101751]),\n",
       "             17: array([-5.3087351 , -5.23169518, -5.43796018, -5.49725072]),\n",
       "             18: array([-5.32403995, -5.2969172 , -5.23787789, -5.18466024]),\n",
       "             19: array([-5.23321324, -5.3108333 , -5.01767495, -5.18118922]),\n",
       "             20: array([-6.80202685, -6.82983127, -6.84900796, -6.96788339]),\n",
       "             21: array([-6.77710036, -6.742479  , -6.77361768, -6.73124856]),\n",
       "             22: array([-6.72886279, -6.62864669, -6.63659475, -6.72497538]),\n",
       "             23: array([-6.89882775, -6.88110126, -6.82310351, -6.94068452]),\n",
       "             24: array([-7.23975209, -6.37278426, -6.340722  , -6.48461039]),\n",
       "             25: array([-6.14987936, -5.74953719, -5.76911414, -5.80448948]),\n",
       "             26: array([-5.06224532, -4.68094545, -4.66278536, -4.8315386 ]),\n",
       "             27: array([-3.0846851 , -2.71083714, -2.93151131, -3.19890415]),\n",
       "             28: array([-4.20483637, -4.16093976, -4.14562635, -4.26726876]),\n",
       "             29: array([-4.29943501, -4.10637995, -4.01858679, -4.20248856]),\n",
       "             30: array([-6.74550765, -6.72266391, -6.78070942, -6.86934694]),\n",
       "             31: array([-6.42218083, -6.2623255 , -6.30408975, -6.38237422]),\n",
       "             32: array([-6.04397061, -6.03286074, -5.9943729 , -6.05634011]),\n",
       "             33: array([-6.16603989, -6.1301992 , -6.05504555, -6.16132193]),\n",
       "             34: array([-5.54628093, -5.24392144, -5.18373145, -5.20665611]),\n",
       "             35: array([-3.88806332, -3.73088322, -3.58313248, -3.72371209]),\n",
       "             36: array([-2.98947853, -2.94552949, -2.9696638 , -2.74134778]),\n",
       "             37: array([0., 0., 0., 0.]),\n",
       "             38: array([-2.8156819 , -2.68245039, -2.79818629, -2.75088698]),\n",
       "             39: array([-3.07828575, -3.22722495, -3.00876379, -3.05400898]),\n",
       "             40: array([-6.21894802, -6.10009836, -6.11270324, -6.25760207]),\n",
       "             41: array([-5.82872355, -5.7977738 , -5.73840882, -5.80169777]),\n",
       "             42: array([-5.39753471, -5.3545333 , -5.40610679, -5.43122418]),\n",
       "             43: array([-5.19104721, -5.18731511, -5.23680101, -5.31229527]),\n",
       "             44: array([-4.12749405, -3.66513313, -3.71607775, -4.06936138]),\n",
       "             45: array([-3.64466633, -2.69573558, -2.71559994, -2.67385672]),\n",
       "             47: array([-0.70876006, -1.02611905, -0.40951   , -0.62060611]),\n",
       "             48: array([-2.04666294, -1.70950976, -1.24891759, -0.99995502]),\n",
       "             49: array([-2.32622743, -2.2089526 , -2.05810848, -2.00261959]),\n",
       "             50: array([-5.60859088, -5.57088578, -5.51087344, -5.51781645]),\n",
       "             51: array([-5.32639703, -5.22022553, -5.23628719, -5.19539983]),\n",
       "             52: array([-4.80653756, -4.75085307, -4.73773153, -4.84580017]),\n",
       "             53: array([-4.35342994, -4.14683535, -4.08039161, -4.29860608]),\n",
       "             54: array([-3.17123187, -3.20873681, -3.08784597, -3.20054183]),\n",
       "             57: array([-0.18561811, -0.22507107, -0.27029444, -0.13544701]),\n",
       "             58: array([-0.97556101, -0.91918189, -0.96236873, -0.85958935]),\n",
       "             59: array([-1.47016651, -1.33787834, -1.34152434, -1.37909362]),\n",
       "             60: array([-5.14782005, -5.16579003, -5.13617524, -5.28090555]),\n",
       "             61: array([-4.83048142, -4.83108564, -4.85159256, -4.78915932]),\n",
       "             62: array([-4.23608609, -4.26377918, -4.34906748, -4.23860945]),\n",
       "             63: array([-3.58517852, -3.6331028 , -3.58543888, -3.65835735]),\n",
       "             68: array([-0.61584991, -0.49239288, -0.38      , -0.42166359]),\n",
       "             69: array([-0.89255342, -0.95792004, -0.85742504, -0.88030413])})"
      ]
     },
     "execution_count": 6,
     "metadata": {},
     "output_type": "execute_result"
    }
   ],
   "source": [
    "Q"
   ]
  },
  {
   "cell_type": "code",
   "execution_count": null,
   "metadata": {
    "collapsed": true
   },
   "outputs": [],
   "source": []
  }
 ],
 "metadata": {
  "kernelspec": {
   "display_name": "Python 3",
   "language": "python",
   "name": "python3"
  },
  "language_info": {
   "codemirror_mode": {
    "name": "ipython",
    "version": 3
   },
   "file_extension": ".py",
   "mimetype": "text/x-python",
   "name": "python",
   "nbconvert_exporter": "python",
   "pygments_lexer": "ipython3",
   "version": "3.6.0"
  }
 },
 "nbformat": 4,
 "nbformat_minor": 2
}
